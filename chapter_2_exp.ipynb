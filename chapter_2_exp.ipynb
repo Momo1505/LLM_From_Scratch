{
 "cells": [
  {
   "cell_type": "code",
   "execution_count": 1,
   "id": "dbb18118",
   "metadata": {},
   "outputs": [],
   "source": [
    "import torch\n",
    "import torch.nn as nn"
   ]
  },
  {
   "cell_type": "markdown",
   "id": "bb1477bc",
   "metadata": {},
   "source": [
    "Lets compute a simple version of the attention for the token \"journey\""
   ]
  },
  {
   "cell_type": "code",
   "execution_count": 2,
   "id": "a2091429",
   "metadata": {},
   "outputs": [],
   "source": [
    "inputs = torch.tensor(\n",
    "    [[0.43, 0.15, 0.89], # Your\n",
    "    [0.55, 0.87, 0.66], # journey\n",
    "    [0.57, 0.85, 0.64], # starts\n",
    "    [0.22, 0.58, 0.33], # with\n",
    "    [0.77, 0.25, 0.10], # one\n",
    "    [0.05, 0.80, 0.55]] # step\n",
    ")"
   ]
  },
  {
   "cell_type": "code",
   "execution_count": 3,
   "id": "c80fafcd",
   "metadata": {},
   "outputs": [
    {
     "name": "stdout",
     "output_type": "stream",
     "text": [
      "tensor([0.1385, 0.2379, 0.2333, 0.1240, 0.1082, 0.1581])\n"
     ]
    }
   ],
   "source": [
    "# computing the attention weights for journey\n",
    "query = inputs[1]\n",
    "attention_weight_for_journey = torch.empty(inputs.shape[0])\n",
    "for i,token_embedding in enumerate(inputs):\n",
    "    attention_weight_for_journey[i] = query @ token_embedding\n",
    "attention_weight_for_journey = attention_weight_for_journey.softmax(dim=0)\n",
    "print(attention_weight_for_journey)"
   ]
  },
  {
   "cell_type": "code",
   "execution_count": 4,
   "id": "f6d14c18",
   "metadata": {},
   "outputs": [
    {
     "name": "stdout",
     "output_type": "stream",
     "text": [
      "tensor([0.4419, 0.6515, 0.5683])\n"
     ]
    }
   ],
   "source": [
    "# computing the context vector for journey which a weighted sum of the inputs embedding\n",
    "\n",
    "journey_context_vec = attention_weight_for_journey @ inputs\n",
    "print(journey_context_vec)"
   ]
  },
  {
   "cell_type": "code",
   "execution_count": 5,
   "id": "9a76be7c",
   "metadata": {},
   "outputs": [
    {
     "name": "stdout",
     "output_type": "stream",
     "text": [
      "attention_weights = tensor([[0.2098, 0.2006, 0.1981, 0.1242, 0.1220, 0.1452],\n",
      "        [0.1385, 0.2379, 0.2333, 0.1240, 0.1082, 0.1581],\n",
      "        [0.1390, 0.2369, 0.2326, 0.1242, 0.1108, 0.1565],\n",
      "        [0.1435, 0.2074, 0.2046, 0.1462, 0.1263, 0.1720],\n",
      "        [0.1526, 0.1958, 0.1975, 0.1367, 0.1879, 0.1295],\n",
      "        [0.1385, 0.2184, 0.2128, 0.1420, 0.0988, 0.1896]])\n",
      "context_vectors = tensor([[0.4421, 0.5931, 0.5790],\n",
      "        [0.4419, 0.6515, 0.5683],\n",
      "        [0.4431, 0.6496, 0.5671],\n",
      "        [0.4304, 0.6298, 0.5510],\n",
      "        [0.4671, 0.5910, 0.5266],\n",
      "        [0.4177, 0.6503, 0.5645]])\n"
     ]
    }
   ],
   "source": [
    "# context vectors for all inputs token\n",
    "attention_weights = (inputs @ inputs.T).softmax(dim=-1)\n",
    "print(\"attention_weights =\",attention_weights)\n",
    "context_vectors = attention_weights @ inputs\n",
    "print(\"context_vectors =\",context_vectors)"
   ]
  },
  {
   "cell_type": "code",
   "execution_count": 6,
   "id": "ab5fcbf1",
   "metadata": {},
   "outputs": [],
   "source": [
    "# creating a learnable attention\n",
    "torch.manual_seed(123)\n",
    "emb_dim = inputs.size(1)\n",
    "W_q = nn.Parameter(torch.rand((emb_dim,emb_dim)),requires_grad=False)\n",
    "W_k = nn.Parameter(torch.rand((emb_dim,emb_dim)),requires_grad=False)\n",
    "W_v = nn.Parameter(torch.rand((emb_dim,emb_dim)),requires_grad=False)"
   ]
  },
  {
   "cell_type": "code",
   "execution_count": 7,
   "id": "2fafd354",
   "metadata": {},
   "outputs": [
    {
     "name": "stdout",
     "output_type": "stream",
     "text": [
      "tensor([0.7446, 1.1523, 1.2343])\n"
     ]
    }
   ],
   "source": [
    "query_2 = inputs[1] @ W_q\n",
    "keys = inputs @ W_k\n",
    "values = inputs @ W_v\n",
    "\n",
    "attention_scores_2 = query_2 @ keys.T\n",
    "attention_weights = (attention_scores_2 * torch.sqrt(torch.tensor(emb_dim))).softmax(dim=-1)\n",
    "\n",
    "context_vector_2 = attention_weights @ values\n",
    "print(context_vector_2)"
   ]
  },
  {
   "cell_type": "code",
   "execution_count": 8,
   "id": "7a26e5b7",
   "metadata": {},
   "outputs": [],
   "source": [
    "from model.attention import SelfAttention_V2,MultiHeadAttention"
   ]
  },
  {
   "cell_type": "code",
   "execution_count": 9,
   "id": "85e746e1",
   "metadata": {},
   "outputs": [
    {
     "name": "stdout",
     "output_type": "stream",
     "text": [
      "tensor([[-0.2079,  0.2694],\n",
      "        [-0.2078,  0.2744],\n",
      "        [-0.2079,  0.2745],\n",
      "        [-0.2089,  0.2738],\n",
      "        [-0.2088,  0.2757],\n",
      "        [-0.2087,  0.2729]], grad_fn=<MmBackward0>)\n"
     ]
    }
   ],
   "source": [
    "self_attention = SelfAttention_V2(emb_dim,2)\n",
    "print(self_attention(inputs))"
   ]
  },
  {
   "cell_type": "markdown",
   "id": "49b2814a",
   "metadata": {},
   "source": [
    "Causal Attention"
   ]
  },
  {
   "cell_type": "code",
   "execution_count": 10,
   "id": "58c8a9b1",
   "metadata": {},
   "outputs": [],
   "source": [
    "queries = inputs @ W_q \n",
    "keys = inputs @ W_k\n",
    "attention_scores = queries @ keys.T"
   ]
  },
  {
   "cell_type": "code",
   "execution_count": 11,
   "id": "9485a4b2",
   "metadata": {},
   "outputs": [
    {
     "data": {
      "text/plain": [
       "tensor([[0.7616,   -inf,   -inf,   -inf,   -inf,   -inf],\n",
       "        [1.7872, 2.0141,   -inf,   -inf,   -inf,   -inf],\n",
       "        [1.7646, 1.9901, 1.9852,   -inf,   -inf,   -inf],\n",
       "        [1.0664, 1.1947, 1.1916, 0.5897,   -inf,   -inf],\n",
       "        [0.8601, 0.9968, 0.9950, 0.4947, 0.6817,   -inf],\n",
       "        [1.3458, 1.4957, 1.4915, 0.7374, 0.9968, 0.8366]])"
      ]
     },
     "execution_count": 11,
     "metadata": {},
     "output_type": "execute_result"
    }
   ],
   "source": [
    "# creating a mask for future predictions\n",
    "mask = torch.triu(torch.ones_like(attention_scores),diagonal=1)\n",
    "attention_scores = attention_scores.masked_fill(mask.bool(),-torch.inf)\n",
    "attention_scores"
   ]
  },
  {
   "cell_type": "code",
   "execution_count": 12,
   "id": "e9bc2086",
   "metadata": {},
   "outputs": [
    {
     "data": {
      "text/plain": [
       "tensor([[1.0000, 0.0000, 0.0000, 0.0000, 0.0000, 0.0000],\n",
       "        [0.4435, 0.5565, 0.0000, 0.0000, 0.0000, 0.0000],\n",
       "        [0.2857, 0.3580, 0.3563, 0.0000, 0.0000, 0.0000],\n",
       "        [0.2570, 0.2922, 0.2913, 0.1596, 0.0000, 0.0000],\n",
       "        [0.2074, 0.2378, 0.2374, 0.1439, 0.1735, 0.0000],\n",
       "        [0.1935, 0.2247, 0.2238, 0.1053, 0.1365, 0.1163]])"
      ]
     },
     "execution_count": 12,
     "metadata": {},
     "output_type": "execute_result"
    }
   ],
   "source": [
    "attention_weights = attention_scores.softmax(dim=-1)\n",
    "attention_weights"
   ]
  },
  {
   "cell_type": "markdown",
   "id": "b914d887",
   "metadata": {},
   "source": [
    "Multihead Atttention"
   ]
  },
  {
   "cell_type": "code",
   "execution_count": 13,
   "id": "1cfc18ab",
   "metadata": {},
   "outputs": [
    {
     "data": {
      "text/plain": [
       "torch.Size([2, 6, 3])"
      ]
     },
     "execution_count": 13,
     "metadata": {},
     "output_type": "execute_result"
    }
   ],
   "source": [
    "batch = torch.cat([inputs[None],inputs[None]],dim=0)\n",
    "batch.shape"
   ]
  },
  {
   "cell_type": "code",
   "execution_count": 14,
   "id": "f1728c31",
   "metadata": {},
   "outputs": [
    {
     "name": "stdout",
     "output_type": "stream",
     "text": [
      "tensor([[[0.3190, 0.4858],\n",
      "         [0.2940, 0.3909],\n",
      "         [0.2853, 0.3604],\n",
      "         [0.2692, 0.3882],\n",
      "         [0.2634, 0.3938],\n",
      "         [0.2574, 0.4036]],\n",
      "\n",
      "        [[0.3190, 0.4858],\n",
      "         [0.2940, 0.3909],\n",
      "         [0.2853, 0.3604],\n",
      "         [0.2692, 0.3882],\n",
      "         [0.2634, 0.3938],\n",
      "         [0.2574, 0.4036]]], grad_fn=<ViewBackward0>)\n",
      "context_vecs.shape: torch.Size([2, 6, 2])\n"
     ]
    }
   ],
   "source": [
    "torch.manual_seed(123)\n",
    "batch_size, context_length, d_in = batch.shape\n",
    "d_out = 2\n",
    "mha = MultiHeadAttention(d_in, d_out, context_length, 0.0, num_heads=2)\n",
    "context_vecs = mha(batch)\n",
    "print(context_vecs)\n",
    "print(\"context_vecs.shape:\", context_vecs.shape)"
   ]
  }
 ],
 "metadata": {
  "kernelspec": {
   "display_name": "Python env_with_PyTorch",
   "language": "python",
   "name": "my_env"
  },
  "language_info": {
   "codemirror_mode": {
    "name": "ipython",
    "version": 3
   },
   "file_extension": ".py",
   "mimetype": "text/x-python",
   "name": "python",
   "nbconvert_exporter": "python",
   "pygments_lexer": "ipython3",
   "version": "3.12.4"
  }
 },
 "nbformat": 4,
 "nbformat_minor": 5
}
